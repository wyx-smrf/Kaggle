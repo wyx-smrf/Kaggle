{
 "cells": [
  {
   "cell_type": "markdown",
   "id": "375910c0",
   "metadata": {},
   "source": [
    "# Grid Histogram\n",
    "\n",
    "Grid style histogram for multiple categorical columns.\n",
    "\n",
    "---"
   ]
  },
  {
   "cell_type": "code",
   "execution_count": null,
   "id": "6b3aa62f",
   "metadata": {},
   "outputs": [],
   "source": [
    "plot_params = {'data':               df,\n",
    "               'row':               'cat_colname1',\n",
    "               'column':            'cat_colname2',\n",
    "               'hist_basis':        'num_colname',\n",
    "               'color':             'color'}\n",
    "\n",
    "def comparative_histogram(data, row, column, hist_basis, color):\n",
    "    hist_plot = sns.FacetGrid(data, margin_titles=True,\n",
    "                              col=column, row=row)\n",
    "    hist_plot.map(plt.hist, hist_basis, color=color)\n",
    "    \n",
    "comparative_histogram(**plot_params)"
   ]
  },
  {
   "cell_type": "markdown",
   "id": "449ca96f",
   "metadata": {},
   "source": [
    "## Example\n",
    "---"
   ]
  },
  {
   "cell_type": "code",
   "execution_count": null,
   "id": "a56c44b7",
   "metadata": {},
   "outputs": [],
   "source": [
    "plot_params = {'data':               titanic,\n",
    "               'rows':              'Survived',\n",
    "               'columns':           'Sex',\n",
    "               'hist_basis':        'Age',\n",
    "               'color':             'blue'}"
   ]
  },
  {
   "attachments": {
    "comparative%20historgram.png": {
     "image/png": "[encoded data removed]"
    }
   },
   "cell_type": "markdown",
   "id": "f50f3b2d",
   "metadata": {},
   "source": [
    "![comparative%20historgram.png](attachment:comparative%20historgram.png)"
   ]
  }
 ],
 "metadata": {
  "kernelspec": {
   "display_name": "Python 3 (ipykernel)",
   "language": "python",
   "name": "python3"
  },
  "language_info": {
   "codemirror_mode": {
    "name": "ipython",
    "version": 3
   },
   "file_extension": ".py",
   "mimetype": "text/x-python",
   "name": "python",
   "nbconvert_exporter": "python",
   "pygments_lexer": "ipython3",
   "version": "3.9.12"
  }
 },
 "nbformat": 4,
 "nbformat_minor": 5
}
